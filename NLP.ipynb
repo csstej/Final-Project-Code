{
 "cells": [
  {
   "cell_type": "code",
   "execution_count": 33,
   "id": "e7c0d9ad",
   "metadata": {
    "execution": {
     "iopub.execute_input": "2022-03-15T15:20:06.031846Z",
     "iopub.status.busy": "2022-03-15T15:20:06.029995Z",
     "iopub.status.idle": "2022-03-15T15:20:07.260082Z",
     "shell.execute_reply": "2022-03-15T15:20:07.260710Z",
     "shell.execute_reply.started": "2022-03-14T17:00:51.212711Z"
    },
    "papermill": {
     "duration": 1.281654,
     "end_time": "2022-03-15T15:20:07.261034",
     "exception": false,
     "start_time": "2022-03-15T15:20:05.979380",
     "status": "completed"
    },
    "tags": []
   },
   "outputs": [],
   "source": [
    "import pandas as pd\n",
    "import numpy as np\n",
    "import matplotlib.pyplot as plt \n",
    "import seaborn as sns\n",
    "\n",
    "import warnings\n",
    "warnings.filterwarnings('ignore')"
   ]
  },
  {
   "cell_type": "code",
   "execution_count": 36,
   "id": "dba0af9c",
   "metadata": {
    "execution": {
     "iopub.execute_input": "2022-03-15T15:20:07.354432Z",
     "iopub.status.busy": "2022-03-15T15:20:07.353417Z",
     "iopub.status.idle": "2022-03-15T15:20:16.571884Z",
     "shell.execute_reply": "2022-03-15T15:20:16.572429Z",
     "shell.execute_reply.started": "2022-03-14T17:00:51.728584Z"
    },
    "papermill": {
     "duration": 9.265542,
     "end_time": "2022-03-15T15:20:16.572613",
     "exception": false,
     "start_time": "2022-03-15T15:20:07.307071",
     "status": "completed"
    },
    "tags": []
   },
   "outputs": [
    {
     "data": {
      "text/html": [
       "<div>\n",
       "<style scoped>\n",
       "    .dataframe tbody tr th:only-of-type {\n",
       "        vertical-align: middle;\n",
       "    }\n",
       "\n",
       "    .dataframe tbody tr th {\n",
       "        vertical-align: top;\n",
       "    }\n",
       "\n",
       "    .dataframe thead th {\n",
       "        text-align: right;\n",
       "    }\n",
       "</style>\n",
       "<table border=\"1\" class=\"dataframe\">\n",
       "  <thead>\n",
       "    <tr style=\"text-align: right;\">\n",
       "      <th></th>\n",
       "      <th>posts</th>\n",
       "      <th>type</th>\n",
       "    </tr>\n",
       "  </thead>\n",
       "  <tbody>\n",
       "    <tr>\n",
       "      <th>0</th>\n",
       "      <td>know intj tool use interaction people excuse a...</td>\n",
       "      <td>INTJ</td>\n",
       "    </tr>\n",
       "    <tr>\n",
       "      <th>1</th>\n",
       "      <td>rap music ehh opp yeah know valid well know fa...</td>\n",
       "      <td>INTJ</td>\n",
       "    </tr>\n",
       "    <tr>\n",
       "      <th>2</th>\n",
       "      <td>preferably p hd low except wew lad video p min...</td>\n",
       "      <td>INTJ</td>\n",
       "    </tr>\n",
       "    <tr>\n",
       "      <th>3</th>\n",
       "      <td>drink like wish could drink red wine give head...</td>\n",
       "      <td>INTJ</td>\n",
       "    </tr>\n",
       "    <tr>\n",
       "      <th>4</th>\n",
       "      <td>space program ah bad deal meing freelance max ...</td>\n",
       "      <td>INTJ</td>\n",
       "    </tr>\n",
       "  </tbody>\n",
       "</table>\n",
       "</div>"
      ],
      "text/plain": [
       "                                               posts  type\n",
       "0  know intj tool use interaction people excuse a...  INTJ\n",
       "1  rap music ehh opp yeah know valid well know fa...  INTJ\n",
       "2  preferably p hd low except wew lad video p min...  INTJ\n",
       "3  drink like wish could drink red wine give head...  INTJ\n",
       "4  space program ah bad deal meing freelance max ...  INTJ"
      ]
     },
     "execution_count": 36,
     "metadata": {},
     "output_type": "execute_result"
    }
   ],
   "source": [
    "MBTI = pd.read_csv('MBTI 500.csv')\n",
    "MBTI.head()"
   ]
  },
  {
   "cell_type": "code",
   "execution_count": 37,
   "id": "36c039f8",
   "metadata": {
    "execution": {
     "iopub.execute_input": "2022-03-15T15:20:16.667666Z",
     "iopub.status.busy": "2022-03-15T15:20:16.666947Z",
     "iopub.status.idle": "2022-03-15T15:20:16.670095Z",
     "shell.execute_reply": "2022-03-15T15:20:16.670647Z",
     "shell.execute_reply.started": "2022-03-14T17:00:56.065747Z"
    },
    "papermill": {
     "duration": 0.052892,
     "end_time": "2022-03-15T15:20:16.670832",
     "exception": false,
     "start_time": "2022-03-15T15:20:16.617940",
     "status": "completed"
    },
    "tags": []
   },
   "outputs": [],
   "source": [
    "#Inspection and Cleaning"
   ]
  },
  {
   "cell_type": "code",
   "execution_count": 38,
   "id": "a7c8b0d7",
   "metadata": {
    "execution": {
     "iopub.execute_input": "2022-03-15T15:20:16.762919Z",
     "iopub.status.busy": "2022-03-15T15:20:16.762251Z",
     "iopub.status.idle": "2022-03-15T15:20:16.817465Z",
     "shell.execute_reply": "2022-03-15T15:20:16.816557Z",
     "shell.execute_reply.started": "2022-03-14T17:00:56.071596Z"
    },
    "papermill": {
     "duration": 0.101907,
     "end_time": "2022-03-15T15:20:16.817657",
     "exception": false,
     "start_time": "2022-03-15T15:20:16.715750",
     "status": "completed"
    },
    "tags": []
   },
   "outputs": [
    {
     "name": "stdout",
     "output_type": "stream",
     "text": [
      "<class 'pandas.core.frame.DataFrame'>\n",
      "RangeIndex: 106067 entries, 0 to 106066\n",
      "Data columns (total 2 columns):\n",
      " #   Column  Non-Null Count   Dtype \n",
      "---  ------  --------------   ----- \n",
      " 0   posts   106067 non-null  object\n",
      " 1   type    106067 non-null  object\n",
      "dtypes: object(2)\n",
      "memory usage: 1.6+ MB\n"
     ]
    }
   ],
   "source": [
    "MBTI.info()"
   ]
  },
  {
   "cell_type": "code",
   "execution_count": 39,
   "id": "84aff21c",
   "metadata": {
    "execution": {
     "iopub.execute_input": "2022-03-15T15:20:16.918246Z",
     "iopub.status.busy": "2022-03-15T15:20:16.917445Z",
     "iopub.status.idle": "2022-03-15T15:20:16.919109Z",
     "shell.execute_reply": "2022-03-15T15:20:16.919837Z",
     "shell.execute_reply.started": "2022-03-14T17:00:56.124335Z"
    },
    "papermill": {
     "duration": 0.056937,
     "end_time": "2022-03-15T15:20:16.920015",
     "exception": false,
     "start_time": "2022-03-15T15:20:16.863078",
     "status": "completed"
    },
    "tags": []
   },
   "outputs": [],
   "source": [
    "MBTI = MBTI.rename(columns={'type':'Personality Type'})"
   ]
  },
  {
   "cell_type": "code",
   "execution_count": 40,
   "id": "09008e0a",
   "metadata": {
    "execution": {
     "iopub.execute_input": "2022-03-15T15:20:17.034550Z",
     "iopub.status.busy": "2022-03-15T15:20:17.016378Z",
     "iopub.status.idle": "2022-03-15T15:20:17.286243Z",
     "shell.execute_reply": "2022-03-15T15:20:17.285675Z",
     "shell.execute_reply.started": "2022-03-14T17:00:56.133943Z"
    },
    "papermill": {
     "duration": 0.321773,
     "end_time": "2022-03-15T15:20:17.286395",
     "exception": false,
     "start_time": "2022-03-15T15:20:16.964622",
     "status": "completed"
    },
    "tags": []
   },
   "outputs": [
    {
     "data": {
      "image/png": "[encoded data removed]",
      "text/plain": [
       "<Figure size 864x360 with 1 Axes>"
      ]
     },
     "metadata": {
      "needs_background": "light"
     },
     "output_type": "display_data"
    }
   ],
   "source": [
    "plt.figure(figsize=(12,5))\n",
    "plt.plot(MBTI['Personality Type'].value_counts())\n",
    "plt.title('Distribution of Classes')\n",
    "plt.show()"
   ]
  },
  {
   "cell_type": "code",
   "execution_count": 41,
   "id": "c3740f20",
   "metadata": {
    "execution": {
     "iopub.execute_input": "2022-03-15T15:20:17.384346Z",
     "iopub.status.busy": "2022-03-15T15:20:17.383412Z",
     "iopub.status.idle": "2022-03-15T15:20:17.385995Z",
     "shell.execute_reply": "2022-03-15T15:20:17.385471Z",
     "shell.execute_reply.started": "2022-03-14T17:00:56.390266Z"
    },
    "papermill": {
     "duration": 0.052726,
     "end_time": "2022-03-15T15:20:17.386139",
     "exception": false,
     "start_time": "2022-03-15T15:20:17.333413",
     "status": "completed"
    },
    "tags": []
   },
   "outputs": [],
   "source": [
    "#Some amount of class imbalance found. "
   ]
  },
  {
   "cell_type": "code",
   "execution_count": 42,
   "id": "01516305",
   "metadata": {
    "execution": {
     "iopub.execute_input": "2022-03-15T15:20:17.508675Z",
     "iopub.status.busy": "2022-03-15T15:20:17.503194Z",
     "iopub.status.idle": "2022-03-15T15:20:20.521593Z",
     "shell.execute_reply": "2022-03-15T15:20:20.520842Z",
     "shell.execute_reply.started": "2022-03-14T17:00:56.395448Z"
    },
    "papermill": {
     "duration": 3.090479,
     "end_time": "2022-03-15T15:20:20.521785",
     "exception": false,
     "start_time": "2022-03-15T15:20:17.431306",
     "status": "completed"
    },
    "tags": []
   },
   "outputs": [
    {
     "data": {
      "text/plain": [
       "count    106067.000000\n",
       "mean        500.019818\n",
       "std           1.209997\n",
       "min         479.000000\n",
       "25%         500.000000\n",
       "50%         500.000000\n",
       "75%         500.000000\n",
       "max         527.000000\n",
       "Name: Length, dtype: float64"
      ]
     },
     "execution_count": 42,
     "metadata": {},
     "output_type": "execute_result"
    }
   ],
   "source": [
    "MBTI['Length'] = MBTI['posts'].apply(lambda x: len(x.split(' ')))\n",
    "MBTI['Length'].describe()"
   ]
  },
  {
   "cell_type": "code",
   "execution_count": 43,
   "id": "b6d2cc20",
   "metadata": {
    "execution": {
     "iopub.execute_input": "2022-03-15T15:20:20.617832Z",
     "iopub.status.busy": "2022-03-15T15:20:20.617115Z",
     "iopub.status.idle": "2022-03-15T15:20:20.620280Z",
     "shell.execute_reply": "2022-03-15T15:20:20.620872Z",
     "shell.execute_reply.started": "2022-03-14T17:00:59.547662Z"
    },
    "papermill": {
     "duration": 0.052985,
     "end_time": "2022-03-15T15:20:20.621048",
     "exception": false,
     "start_time": "2022-03-15T15:20:20.568063",
     "status": "completed"
    },
    "tags": []
   },
   "outputs": [],
   "source": [
    "#As we can see the length of the sentences are not exactly 500 each. "
   ]
  },
  {
   "cell_type": "code",
   "execution_count": 44,
   "id": "d030ccbb",
   "metadata": {
    "execution": {
     "iopub.execute_input": "2022-03-15T15:20:20.718531Z",
     "iopub.status.busy": "2022-03-15T15:20:20.717890Z",
     "iopub.status.idle": "2022-03-15T15:20:20.720867Z",
     "shell.execute_reply": "2022-03-15T15:20:20.721408Z",
     "shell.execute_reply.started": "2022-03-14T17:00:59.553086Z"
    },
    "papermill": {
     "duration": 0.054004,
     "end_time": "2022-03-15T15:20:20.721577",
     "exception": false,
     "start_time": "2022-03-15T15:20:20.667573",
     "status": "completed"
    },
    "tags": []
   },
   "outputs": [],
   "source": [
    "#We will now get a list of all the words in all the posts. \n",
    "#We will take a sample of the data since there are a lot of words present. "
   ]
  },
  {
   "cell_type": "code",
   "execution_count": 45,
   "id": "59b0dd63",
   "metadata": {
    "execution": {
     "iopub.execute_input": "2022-03-15T15:20:20.820370Z",
     "iopub.status.busy": "2022-03-15T15:20:20.819338Z",
     "iopub.status.idle": "2022-03-15T15:20:20.832102Z",
     "shell.execute_reply": "2022-03-15T15:20:20.832616Z",
     "shell.execute_reply.started": "2022-03-14T17:00:59.566160Z"
    },
    "papermill": {
     "duration": 0.064843,
     "end_time": "2022-03-15T15:20:20.832816",
     "exception": false,
     "start_time": "2022-03-15T15:20:20.767973",
     "status": "completed"
    },
    "tags": []
   },
   "outputs": [
    {
     "data": {
      "text/plain": [
       "10607"
      ]
     },
     "execution_count": 45,
     "metadata": {},
     "output_type": "execute_result"
    }
   ],
   "source": [
    "MBTI_Pred = MBTI.sample(frac=0.1)\n",
    "len(MBTI_Pred)"
   ]
  },
  {
   "cell_type": "code",
   "execution_count": 46,
   "id": "22f421b2",
   "metadata": {
    "execution": {
     "iopub.execute_input": "2022-03-15T15:20:20.990065Z",
     "iopub.status.busy": "2022-03-15T15:20:20.972911Z",
     "iopub.status.idle": "2022-03-15T15:20:21.160447Z",
     "shell.execute_reply": "2022-03-15T15:20:21.160952Z",
     "shell.execute_reply.started": "2022-03-14T17:00:59.585717Z"
    },
    "papermill": {
     "duration": 0.281507,
     "end_time": "2022-03-15T15:20:21.161124",
     "exception": false,
     "start_time": "2022-03-15T15:20:20.879617",
     "status": "completed"
    },
    "tags": []
   },
   "outputs": [
    {
     "data": {
      "image/png": "[encoded data removed]",
      "text/plain": [
       "<Figure size 864x360 with 1 Axes>"
      ]
     },
     "metadata": {
      "needs_background": "light"
     },
     "output_type": "display_data"
    }
   ],
   "source": [
    "plt.figure(figsize=(12,5))\n",
    "plt.plot(MBTI_Pred['Personality Type'].value_counts())\n",
    "plt.title('Distribution of Classes')\n",
    "plt.show()"
   ]
  },
  {
   "cell_type": "code",
   "execution_count": 47,
   "id": "62df7a24",
   "metadata": {
    "execution": {
     "iopub.execute_input": "2022-03-15T15:20:21.269849Z",
     "iopub.status.busy": "2022-03-15T15:20:21.262131Z",
     "iopub.status.idle": "2022-03-15T15:20:22.397768Z",
     "shell.execute_reply": "2022-03-15T15:20:22.397135Z",
     "shell.execute_reply.started": "2022-03-14T17:00:59.811715Z"
    },
    "papermill": {
     "duration": 1.187484,
     "end_time": "2022-03-15T15:20:22.397913",
     "exception": false,
     "start_time": "2022-03-15T15:20:21.210429",
     "status": "completed"
    },
    "tags": []
   },
   "outputs": [],
   "source": [
    "Words = list()\n",
    "for i in list(MBTI_Pred['posts']):\n",
    "    for j in i.split(' '):\n",
    "        Words.append(j)"
   ]
  },
  {
   "cell_type": "code",
   "execution_count": 48,
   "id": "75924633",
   "metadata": {
    "execution": {
     "iopub.execute_input": "2022-03-15T15:20:22.498005Z",
     "iopub.status.busy": "2022-03-15T15:20:22.497138Z",
     "iopub.status.idle": "2022-03-15T15:20:22.500274Z",
     "shell.execute_reply": "2022-03-15T15:20:22.499736Z",
     "shell.execute_reply.started": "2022-03-14T17:01:00.896898Z"
    },
    "papermill": {
     "duration": 0.054845,
     "end_time": "2022-03-15T15:20:22.500415",
     "exception": false,
     "start_time": "2022-03-15T15:20:22.445570",
     "status": "completed"
    },
    "tags": []
   },
   "outputs": [],
   "source": [
    "from collections import Counter"
   ]
  },
  {
   "cell_type": "code",
   "execution_count": 49,
   "id": "61c5eb06",
   "metadata": {
    "execution": {
     "iopub.execute_input": "2022-03-15T15:20:23.528193Z",
     "iopub.status.busy": "2022-03-15T15:20:23.516323Z",
     "iopub.status.idle": "2022-03-15T15:20:23.593547Z",
     "shell.execute_reply": "2022-03-15T15:20:23.592868Z",
     "shell.execute_reply.started": "2022-03-14T17:01:00.902194Z"
    },
    "papermill": {
     "duration": 1.039896,
     "end_time": "2022-03-15T15:20:23.593693",
     "exception": false,
     "start_time": "2022-03-15T15:20:22.553797",
     "status": "completed"
    },
    "tags": []
   },
   "outputs": [
    {
     "name": "stdout",
     "output_type": "stream",
     "text": [
      "72078\n"
     ]
    },
    {
     "data": {
      "text/html": [
       "<div>\n",
       "<style scoped>\n",
       "    .dataframe tbody tr th:only-of-type {\n",
       "        vertical-align: middle;\n",
       "    }\n",
       "\n",
       "    .dataframe tbody tr th {\n",
       "        vertical-align: top;\n",
       "    }\n",
       "\n",
       "    .dataframe thead th {\n",
       "        text-align: right;\n",
       "    }\n",
       "</style>\n",
       "<table border=\"1\" class=\"dataframe\">\n",
       "  <thead>\n",
       "    <tr style=\"text-align: right;\">\n",
       "      <th></th>\n",
       "      <th>Frequency</th>\n",
       "    </tr>\n",
       "    <tr>\n",
       "      <th>Word</th>\n",
       "      <th></th>\n",
       "    </tr>\n",
       "  </thead>\n",
       "  <tbody>\n",
       "    <tr>\n",
       "      <th>like</th>\n",
       "      <td>69902</td>\n",
       "    </tr>\n",
       "    <tr>\n",
       "      <th>think</th>\n",
       "      <td>59780</td>\n",
       "    </tr>\n",
       "    <tr>\n",
       "      <th>people</th>\n",
       "      <td>55810</td>\n",
       "    </tr>\n",
       "    <tr>\n",
       "      <th>get</th>\n",
       "      <td>53080</td>\n",
       "    </tr>\n",
       "    <tr>\n",
       "      <th>thing</th>\n",
       "      <td>40810</td>\n",
       "    </tr>\n",
       "  </tbody>\n",
       "</table>\n",
       "</div>"
      ],
      "text/plain": [
       "        Frequency\n",
       "Word             \n",
       "like        69902\n",
       "think       59780\n",
       "people      55810\n",
       "get         53080\n",
       "thing       40810"
      ]
     },
     "execution_count": 49,
     "metadata": {},
     "output_type": "execute_result"
    }
   ],
   "source": [
    "Words_dic = Counter(Words)\n",
    "Words_dic = pd.DataFrame({'Word':list(Words_dic.keys()),'Frequency':list(Words_dic.values())})\n",
    "Words_dic.sort_values('Frequency',ascending=False,inplace=True)\n",
    "Words_dic.set_index('Word',inplace=True)\n",
    "print(len(Words_dic))\n",
    "Words_dic.head()"
   ]
  },
  {
   "cell_type": "code",
   "execution_count": 50,
   "id": "01deb607",
   "metadata": {
    "execution": {
     "iopub.execute_input": "2022-03-15T15:20:23.695199Z",
     "iopub.status.busy": "2022-03-15T15:20:23.694397Z",
     "iopub.status.idle": "2022-03-15T15:20:23.696690Z",
     "shell.execute_reply": "2022-03-15T15:20:23.697237Z",
     "shell.execute_reply.started": "2022-03-14T17:01:01.931032Z"
    },
    "papermill": {
     "duration": 0.054897,
     "end_time": "2022-03-15T15:20:23.697413",
     "exception": false,
     "start_time": "2022-03-15T15:20:23.642516",
     "status": "completed"
    },
    "tags": []
   },
   "outputs": [],
   "source": [
    "#Checking distribution of word frequencies"
   ]
  },
  {
   "cell_type": "code",
   "execution_count": 51,
   "id": "c160f709",
   "metadata": {
    "execution": {
     "iopub.execute_input": "2022-03-15T15:20:23.802879Z",
     "iopub.status.busy": "2022-03-15T15:20:23.802011Z",
     "iopub.status.idle": "2022-03-15T15:20:23.812044Z",
     "shell.execute_reply": "2022-03-15T15:20:23.812566Z",
     "shell.execute_reply.started": "2022-03-14T17:01:01.936536Z"
    },
    "papermill": {
     "duration": 0.064695,
     "end_time": "2022-03-15T15:20:23.812760",
     "exception": false,
     "start_time": "2022-03-15T15:20:23.748065",
     "status": "completed"
    },
    "tags": []
   },
   "outputs": [
    {
     "data": {
      "text/plain": [
       "count    72078.000000\n",
       "mean        73.584298\n",
       "std        863.832969\n",
       "min          1.000000\n",
       "25%          1.000000\n",
       "50%          1.000000\n",
       "75%          6.000000\n",
       "max      69902.000000\n",
       "Name: Frequency, dtype: float64"
      ]
     },
     "execution_count": 51,
     "metadata": {},
     "output_type": "execute_result"
    }
   ],
   "source": [
    "Words_dic['Frequency'].describe()"
   ]
  },
  {
   "cell_type": "code",
   "execution_count": 52,
   "id": "ccfff046",
   "metadata": {
    "execution": {
     "iopub.execute_input": "2022-03-15T15:20:23.917909Z",
     "iopub.status.busy": "2022-03-15T15:20:23.917003Z",
     "iopub.status.idle": "2022-03-15T15:20:23.937602Z",
     "shell.execute_reply": "2022-03-15T15:20:23.936983Z",
     "shell.execute_reply.started": "2022-03-14T17:01:01.954974Z"
    },
    "papermill": {
     "duration": 0.075615,
     "end_time": "2022-03-15T15:20:23.937772",
     "exception": false,
     "start_time": "2022-03-15T15:20:23.862157",
     "status": "completed"
    },
    "tags": []
   },
   "outputs": [
    {
     "name": "stdout",
     "output_type": "stream",
     "text": [
      "1.0\n",
      "1.0\n",
      "1.0\n",
      "1.0\n",
      "1.0\n",
      "2.0\n",
      "4.0\n",
      "10.0\n",
      "39.0\n"
     ]
    }
   ],
   "source": [
    "for i in [0.1,0.2,0.3,0.4,0.5,0.6,0.7,0.8,0.9]:\n",
    "    print(Words_dic['Frequency'].quantile(i))"
   ]
  },
  {
   "cell_type": "code",
   "execution_count": 53,
   "id": "b9897598",
   "metadata": {
    "execution": {
     "iopub.execute_input": "2022-03-15T15:20:24.045232Z",
     "iopub.status.busy": "2022-03-15T15:20:24.044543Z",
     "iopub.status.idle": "2022-03-15T15:20:24.069508Z",
     "shell.execute_reply": "2022-03-15T15:20:24.070117Z",
     "shell.execute_reply.started": "2022-03-14T17:01:01.978425Z"
    },
    "papermill": {
     "duration": 0.08205,
     "end_time": "2022-03-15T15:20:24.070345",
     "exception": false,
     "start_time": "2022-03-15T15:20:23.988295",
     "status": "completed"
    },
    "tags": []
   },
   "outputs": [
    {
     "name": "stdout",
     "output_type": "stream",
     "text": [
      "47.0\n",
      "58.0\n",
      "73.0\n",
      "95.0\n",
      "131.0\n",
      "191.0\n",
      "289.0\n",
      "531.4599999999919\n",
      "1350.229999999996\n"
     ]
    }
   ],
   "source": [
    "for i in [0.91,0.92,0.93,0.94,0.95,0.96,0.97,0.98,0.99]:\n",
    "    print(Words_dic['Frequency'].quantile(i))"
   ]
  },
  {
   "cell_type": "code",
   "execution_count": 54,
   "id": "0efb6514",
   "metadata": {
    "execution": {
     "iopub.execute_input": "2022-03-15T15:20:24.173035Z",
     "iopub.status.busy": "2022-03-15T15:20:24.172357Z",
     "iopub.status.idle": "2022-03-15T15:20:24.176462Z",
     "shell.execute_reply": "2022-03-15T15:20:24.175922Z",
     "shell.execute_reply.started": "2022-03-14T17:01:02.006995Z"
    },
    "papermill": {
     "duration": 0.056919,
     "end_time": "2022-03-15T15:20:24.176597",
     "exception": false,
     "start_time": "2022-03-15T15:20:24.119678",
     "status": "completed"
    },
    "tags": []
   },
   "outputs": [],
   "source": [
    "#Using the top 1 quantile of words based on frequency. "
   ]
  },
  {
   "cell_type": "code",
   "execution_count": 55,
   "id": "7f33ba5a",
   "metadata": {
    "execution": {
     "iopub.execute_input": "2022-03-15T15:20:24.285321Z",
     "iopub.status.busy": "2022-03-15T15:20:24.284225Z",
     "iopub.status.idle": "2022-03-15T15:20:24.290525Z",
     "shell.execute_reply": "2022-03-15T15:20:24.289996Z",
     "shell.execute_reply.started": "2022-03-14T17:01:02.012846Z"
    },
    "papermill": {
     "duration": 0.064012,
     "end_time": "2022-03-15T15:20:24.290673",
     "exception": false,
     "start_time": "2022-03-15T15:20:24.226661",
     "status": "completed"
    },
    "tags": []
   },
   "outputs": [
    {
     "data": {
      "text/plain": [
       "724"
      ]
     },
     "execution_count": 55,
     "metadata": {},
     "output_type": "execute_result"
    }
   ],
   "source": [
    "Words_dic = Words_dic[Words_dic.Frequency>1341.6500000000087]\n",
    "len(Words_dic)"
   ]
  },
  {
   "cell_type": "code",
   "execution_count": 56,
   "id": "76e0ee77",
   "metadata": {
    "execution": {
     "iopub.execute_input": "2022-03-15T15:20:24.397288Z",
     "iopub.status.busy": "2022-03-15T15:20:24.396053Z",
     "iopub.status.idle": "2022-03-15T15:20:24.399657Z",
     "shell.execute_reply": "2022-03-15T15:20:24.400232Z",
     "shell.execute_reply.started": "2022-03-14T17:01:02.029114Z"
    },
    "papermill": {
     "duration": 0.057801,
     "end_time": "2022-03-15T15:20:24.400422",
     "exception": false,
     "start_time": "2022-03-15T15:20:24.342621",
     "status": "completed"
    },
    "tags": []
   },
   "outputs": [],
   "source": [
    "#We will now apply these words to the entire dataset based on their presence in the posts. "
   ]
  },
  {
   "cell_type": "code",
   "execution_count": 57,
   "id": "78c5405b",
   "metadata": {
    "execution": {
     "iopub.execute_input": "2022-03-15T15:20:24.510853Z",
     "iopub.status.busy": "2022-03-15T15:20:24.506255Z",
     "iopub.status.idle": "2022-03-15T16:06:21.525780Z",
     "shell.execute_reply": "2022-03-15T16:06:21.526340Z",
     "shell.execute_reply.started": "2022-03-14T17:01:02.042872Z"
    },
    "papermill": {
     "duration": 2757.076533,
     "end_time": "2022-03-15T16:06:21.526555",
     "exception": false,
     "start_time": "2022-03-15T15:20:24.450022",
     "status": "completed"
    },
    "tags": []
   },
   "outputs": [
    {
     "data": {
      "text/html": [
       "<div>\n",
       "<style scoped>\n",
       "    .dataframe tbody tr th:only-of-type {\n",
       "        vertical-align: middle;\n",
       "    }\n",
       "\n",
       "    .dataframe tbody tr th {\n",
       "        vertical-align: top;\n",
       "    }\n",
       "\n",
       "    .dataframe thead th {\n",
       "        text-align: right;\n",
       "    }\n",
       "</style>\n",
       "<table border=\"1\" class=\"dataframe\">\n",
       "  <thead>\n",
       "    <tr style=\"text-align: right;\">\n",
       "      <th></th>\n",
       "      <th>Personality Type</th>\n",
       "      <th>like</th>\n",
       "      <th>think</th>\n",
       "      <th>people</th>\n",
       "      <th>get</th>\n",
       "      <th>thing</th>\n",
       "      <th>make</th>\n",
       "      <th>know</th>\n",
       "      <th>feel</th>\n",
       "      <th>one</th>\n",
       "      <th>...</th>\n",
       "      <th>finally</th>\n",
       "      <th>estj</th>\n",
       "      <th>obvious</th>\n",
       "      <th>role</th>\n",
       "      <th>aspect</th>\n",
       "      <th>highly</th>\n",
       "      <th>context</th>\n",
       "      <th>discus</th>\n",
       "      <th>j</th>\n",
       "      <th>activity</th>\n",
       "    </tr>\n",
       "  </thead>\n",
       "  <tbody>\n",
       "    <tr>\n",
       "      <th>0</th>\n",
       "      <td>INTJ</td>\n",
       "      <td>1</td>\n",
       "      <td>1</td>\n",
       "      <td>1</td>\n",
       "      <td>1</td>\n",
       "      <td>1</td>\n",
       "      <td>1</td>\n",
       "      <td>1</td>\n",
       "      <td>1</td>\n",
       "      <td>1</td>\n",
       "      <td>...</td>\n",
       "      <td>0</td>\n",
       "      <td>0</td>\n",
       "      <td>0</td>\n",
       "      <td>1</td>\n",
       "      <td>0</td>\n",
       "      <td>0</td>\n",
       "      <td>0</td>\n",
       "      <td>0</td>\n",
       "      <td>0</td>\n",
       "      <td>0</td>\n",
       "    </tr>\n",
       "    <tr>\n",
       "      <th>1</th>\n",
       "      <td>INTJ</td>\n",
       "      <td>1</td>\n",
       "      <td>1</td>\n",
       "      <td>1</td>\n",
       "      <td>1</td>\n",
       "      <td>1</td>\n",
       "      <td>1</td>\n",
       "      <td>1</td>\n",
       "      <td>1</td>\n",
       "      <td>1</td>\n",
       "      <td>...</td>\n",
       "      <td>1</td>\n",
       "      <td>0</td>\n",
       "      <td>0</td>\n",
       "      <td>0</td>\n",
       "      <td>0</td>\n",
       "      <td>0</td>\n",
       "      <td>0</td>\n",
       "      <td>0</td>\n",
       "      <td>0</td>\n",
       "      <td>1</td>\n",
       "    </tr>\n",
       "    <tr>\n",
       "      <th>2</th>\n",
       "      <td>INTJ</td>\n",
       "      <td>1</td>\n",
       "      <td>1</td>\n",
       "      <td>1</td>\n",
       "      <td>1</td>\n",
       "      <td>1</td>\n",
       "      <td>1</td>\n",
       "      <td>1</td>\n",
       "      <td>1</td>\n",
       "      <td>1</td>\n",
       "      <td>...</td>\n",
       "      <td>1</td>\n",
       "      <td>0</td>\n",
       "      <td>0</td>\n",
       "      <td>0</td>\n",
       "      <td>0</td>\n",
       "      <td>1</td>\n",
       "      <td>0</td>\n",
       "      <td>0</td>\n",
       "      <td>0</td>\n",
       "      <td>0</td>\n",
       "    </tr>\n",
       "    <tr>\n",
       "      <th>3</th>\n",
       "      <td>INTJ</td>\n",
       "      <td>1</td>\n",
       "      <td>1</td>\n",
       "      <td>1</td>\n",
       "      <td>1</td>\n",
       "      <td>1</td>\n",
       "      <td>1</td>\n",
       "      <td>1</td>\n",
       "      <td>1</td>\n",
       "      <td>1</td>\n",
       "      <td>...</td>\n",
       "      <td>0</td>\n",
       "      <td>0</td>\n",
       "      <td>0</td>\n",
       "      <td>0</td>\n",
       "      <td>0</td>\n",
       "      <td>0</td>\n",
       "      <td>0</td>\n",
       "      <td>0</td>\n",
       "      <td>0</td>\n",
       "      <td>0</td>\n",
       "    </tr>\n",
       "    <tr>\n",
       "      <th>4</th>\n",
       "      <td>INTJ</td>\n",
       "      <td>1</td>\n",
       "      <td>1</td>\n",
       "      <td>1</td>\n",
       "      <td>1</td>\n",
       "      <td>1</td>\n",
       "      <td>1</td>\n",
       "      <td>0</td>\n",
       "      <td>1</td>\n",
       "      <td>1</td>\n",
       "      <td>...</td>\n",
       "      <td>0</td>\n",
       "      <td>0</td>\n",
       "      <td>0</td>\n",
       "      <td>0</td>\n",
       "      <td>0</td>\n",
       "      <td>0</td>\n",
       "      <td>0</td>\n",
       "      <td>0</td>\n",
       "      <td>0</td>\n",
       "      <td>0</td>\n",
       "    </tr>\n",
       "  </tbody>\n",
       "</table>\n",
       "<p>5 rows × 725 columns</p>\n",
       "</div>"
      ],
      "text/plain": [
       "  Personality Type  like  think  people  get  thing  make  know  feel  one  \\\n",
       "0             INTJ     1      1       1    1      1     1     1     1    1   \n",
       "1             INTJ     1      1       1    1      1     1     1     1    1   \n",
       "2             INTJ     1      1       1    1      1     1     1     1    1   \n",
       "3             INTJ     1      1       1    1      1     1     1     1    1   \n",
       "4             INTJ     1      1       1    1      1     1     0     1    1   \n",
       "\n",
       "   ...  finally  estj  obvious  role  aspect  highly  context  discus  j  \\\n",
       "0  ...        0     0        0     1       0       0        0       0  0   \n",
       "1  ...        1     0        0     0       0       0        0       0  0   \n",
       "2  ...        1     0        0     0       0       1        0       0  0   \n",
       "3  ...        0     0        0     0       0       0        0       0  0   \n",
       "4  ...        0     0        0     0       0       0        0       0  0   \n",
       "\n",
       "   activity  \n",
       "0         0  \n",
       "1         1  \n",
       "2         0  \n",
       "3         0  \n",
       "4         0  \n",
       "\n",
       "[5 rows x 725 columns]"
      ]
     },
     "execution_count": 57,
     "metadata": {},
     "output_type": "execute_result"
    }
   ],
   "source": [
    "Final_Words = list(Words_dic.index)\n",
    "for i in Final_Words:\n",
    "    MBTI[i] = MBTI['posts'].apply(lambda x: 1 if i in x.split(' ') else 0)\n",
    "MBTI.drop(['Length','posts'],axis=1,inplace=True)\n",
    "MBTI.head()"
   ]
  },
  {
   "cell_type": "code",
   "execution_count": 58,
   "id": "2f537361",
   "metadata": {
    "execution": {
     "iopub.execute_input": "2022-03-15T16:06:21.637773Z",
     "iopub.status.busy": "2022-03-15T16:06:21.637079Z",
     "iopub.status.idle": "2022-03-15T16:06:21.639632Z",
     "shell.execute_reply": "2022-03-15T16:06:21.640169Z",
     "shell.execute_reply.started": "2022-03-14T17:48:09.371438Z"
    },
    "papermill": {
     "duration": 0.062442,
     "end_time": "2022-03-15T16:06:21.640358",
     "exception": false,
     "start_time": "2022-03-15T16:06:21.577916",
     "status": "completed"
    },
    "tags": []
   },
   "outputs": [
    {
     "data": {
      "text/plain": [
       "106067"
      ]
     },
     "execution_count": 58,
     "metadata": {},
     "output_type": "execute_result"
    }
   ],
   "source": [
    "len(MBTI)"
   ]
  },
  {
   "cell_type": "code",
   "execution_count": 59,
   "id": "ddab4bb4",
   "metadata": {
    "execution": {
     "iopub.execute_input": "2022-03-15T16:06:21.748868Z",
     "iopub.status.busy": "2022-03-15T16:06:21.747784Z",
     "iopub.status.idle": "2022-03-15T16:06:21.749921Z",
     "shell.execute_reply": "2022-03-15T16:06:21.750567Z",
     "shell.execute_reply.started": "2022-03-14T17:48:09.380615Z"
    },
    "papermill": {
     "duration": 0.058722,
     "end_time": "2022-03-15T16:06:21.750746",
     "exception": false,
     "start_time": "2022-03-15T16:06:21.692024",
     "status": "completed"
    },
    "tags": []
   },
   "outputs": [],
   "source": [
    "#EDA "
   ]
  },
  {
   "cell_type": "code",
   "execution_count": 60,
   "id": "0bf62a1c",
   "metadata": {
    "execution": {
     "iopub.execute_input": "2022-03-15T16:06:21.857202Z",
     "iopub.status.busy": "2022-03-15T16:06:21.856171Z",
     "iopub.status.idle": "2022-03-15T16:06:21.859538Z",
     "shell.execute_reply": "2022-03-15T16:06:21.860080Z",
     "shell.execute_reply.started": "2022-03-14T17:48:09.393917Z"
    },
    "papermill": {
     "duration": 0.058513,
     "end_time": "2022-03-15T16:06:21.860265",
     "exception": false,
     "start_time": "2022-03-15T16:06:21.801752",
     "status": "completed"
    },
    "tags": []
   },
   "outputs": [],
   "source": [
    "#We will check which top 10 words for each of the different personality types. "
   ]
  },
  {
   "cell_type": "code",
   "execution_count": 61,
   "id": "b248b15b",
   "metadata": {
    "execution": {
     "iopub.execute_input": "2022-03-15T16:06:21.966616Z",
     "iopub.status.busy": "2022-03-15T16:06:21.965599Z",
     "iopub.status.idle": "2022-03-15T16:06:23.128468Z",
     "shell.execute_reply": "2022-03-15T16:06:23.127917Z",
     "shell.execute_reply.started": "2022-03-14T17:48:09.407099Z"
    },
    "papermill": {
     "duration": 1.217476,
     "end_time": "2022-03-15T16:06:23.128619",
     "exception": false,
     "start_time": "2022-03-15T16:06:21.911143",
     "status": "completed"
    },
    "tags": []
   },
   "outputs": [
    {
     "data": {
      "text/html": [
       "<div>\n",
       "<style scoped>\n",
       "    .dataframe tbody tr th:only-of-type {\n",
       "        vertical-align: middle;\n",
       "    }\n",
       "\n",
       "    .dataframe tbody tr th {\n",
       "        vertical-align: top;\n",
       "    }\n",
       "\n",
       "    .dataframe thead th {\n",
       "        text-align: right;\n",
       "    }\n",
       "</style>\n",
       "<table border=\"1\" class=\"dataframe\">\n",
       "  <thead>\n",
       "    <tr style=\"text-align: right;\">\n",
       "      <th>Personality Type</th>\n",
       "      <th>ENFJ</th>\n",
       "      <th>ENFP</th>\n",
       "      <th>ENTJ</th>\n",
       "      <th>ENTP</th>\n",
       "      <th>ESFJ</th>\n",
       "      <th>ESFP</th>\n",
       "      <th>ESTJ</th>\n",
       "      <th>ESTP</th>\n",
       "      <th>INFJ</th>\n",
       "      <th>INFP</th>\n",
       "      <th>INTJ</th>\n",
       "      <th>INTP</th>\n",
       "      <th>ISFJ</th>\n",
       "      <th>ISFP</th>\n",
       "      <th>ISTJ</th>\n",
       "      <th>ISTP</th>\n",
       "    </tr>\n",
       "  </thead>\n",
       "  <tbody>\n",
       "    <tr>\n",
       "      <th>like</th>\n",
       "      <td>0.994785</td>\n",
       "      <td>0.998054</td>\n",
       "      <td>0.988494</td>\n",
       "      <td>0.996077</td>\n",
       "      <td>1.000000</td>\n",
       "      <td>0.994444</td>\n",
       "      <td>0.981328</td>\n",
       "      <td>0.986908</td>\n",
       "      <td>0.996391</td>\n",
       "      <td>0.998187</td>\n",
       "      <td>0.992286</td>\n",
       "      <td>0.994832</td>\n",
       "      <td>1.000000</td>\n",
       "      <td>0.998857</td>\n",
       "      <td>0.995173</td>\n",
       "      <td>0.994743</td>\n",
       "    </tr>\n",
       "    <tr>\n",
       "      <th>think</th>\n",
       "      <td>0.991525</td>\n",
       "      <td>0.991406</td>\n",
       "      <td>0.983756</td>\n",
       "      <td>0.993006</td>\n",
       "      <td>0.994475</td>\n",
       "      <td>0.994444</td>\n",
       "      <td>0.987552</td>\n",
       "      <td>0.965760</td>\n",
       "      <td>0.992649</td>\n",
       "      <td>0.991759</td>\n",
       "      <td>0.986445</td>\n",
       "      <td>0.991827</td>\n",
       "      <td>0.998462</td>\n",
       "      <td>0.998857</td>\n",
       "      <td>0.983910</td>\n",
       "      <td>0.987442</td>\n",
       "    </tr>\n",
       "    <tr>\n",
       "      <th>people</th>\n",
       "      <td>0.981095</td>\n",
       "      <td>0.982001</td>\n",
       "      <td>0.974958</td>\n",
       "      <td>0.982260</td>\n",
       "      <td>0.977901</td>\n",
       "      <td>0.986111</td>\n",
       "      <td>0.962656</td>\n",
       "      <td>0.966264</td>\n",
       "      <td>0.981354</td>\n",
       "      <td>0.979974</td>\n",
       "      <td>0.980604</td>\n",
       "      <td>0.977685</td>\n",
       "      <td>0.986154</td>\n",
       "      <td>0.980571</td>\n",
       "      <td>0.964602</td>\n",
       "      <td>0.979848</td>\n",
       "    </tr>\n",
       "    <tr>\n",
       "      <th>get</th>\n",
       "      <td>0.977836</td>\n",
       "      <td>0.992217</td>\n",
       "      <td>0.985110</td>\n",
       "      <td>0.986695</td>\n",
       "      <td>0.988950</td>\n",
       "      <td>0.986111</td>\n",
       "      <td>0.941909</td>\n",
       "      <td>0.975327</td>\n",
       "      <td>0.988171</td>\n",
       "      <td>0.985495</td>\n",
       "      <td>0.983993</td>\n",
       "      <td>0.983094</td>\n",
       "      <td>0.978462</td>\n",
       "      <td>0.980571</td>\n",
       "      <td>0.990346</td>\n",
       "      <td>0.989486</td>\n",
       "    </tr>\n",
       "    <tr>\n",
       "      <th>thing</th>\n",
       "      <td>0.966754</td>\n",
       "      <td>0.969677</td>\n",
       "      <td>0.930964</td>\n",
       "      <td>0.961365</td>\n",
       "      <td>0.961326</td>\n",
       "      <td>0.961111</td>\n",
       "      <td>0.846473</td>\n",
       "      <td>0.864048</td>\n",
       "      <td>0.965582</td>\n",
       "      <td>0.966870</td>\n",
       "      <td>0.961653</td>\n",
       "      <td>0.962782</td>\n",
       "      <td>0.966154</td>\n",
       "      <td>0.974857</td>\n",
       "      <td>0.955752</td>\n",
       "      <td>0.959696</td>\n",
       "    </tr>\n",
       "  </tbody>\n",
       "</table>\n",
       "</div>"
      ],
      "text/plain": [
       "Personality Type      ENFJ      ENFP      ENTJ      ENTP      ESFJ      ESFP  \\\n",
       "like              0.994785  0.998054  0.988494  0.996077  1.000000  0.994444   \n",
       "think             0.991525  0.991406  0.983756  0.993006  0.994475  0.994444   \n",
       "people            0.981095  0.982001  0.974958  0.982260  0.977901  0.986111   \n",
       "get               0.977836  0.992217  0.985110  0.986695  0.988950  0.986111   \n",
       "thing             0.966754  0.969677  0.930964  0.961365  0.961326  0.961111   \n",
       "\n",
       "Personality Type      ESTJ      ESTP      INFJ      INFP      INTJ      INTP  \\\n",
       "like              0.981328  0.986908  0.996391  0.998187  0.992286  0.994832   \n",
       "think             0.987552  0.965760  0.992649  0.991759  0.986445  0.991827   \n",
       "people            0.962656  0.966264  0.981354  0.979974  0.980604  0.977685   \n",
       "get               0.941909  0.975327  0.988171  0.985495  0.983993  0.983094   \n",
       "thing             0.846473  0.864048  0.965582  0.966870  0.961653  0.962782   \n",
       "\n",
       "Personality Type      ISFJ      ISFP      ISTJ      ISTP  \n",
       "like              1.000000  0.998857  0.995173  0.994743  \n",
       "think             0.998462  0.998857  0.983910  0.987442  \n",
       "people            0.986154  0.980571  0.964602  0.979848  \n",
       "get               0.978462  0.980571  0.990346  0.989486  \n",
       "thing             0.966154  0.974857  0.955752  0.959696  "
      ]
     },
     "execution_count": 61,
     "metadata": {},
     "output_type": "execute_result"
    }
   ],
   "source": [
    "MBTI_EDA = MBTI.groupby('Personality Type').mean()\n",
    "MBTI_EDA = MBTI_EDA.transpose()\n",
    "MBTI_EDA.head()"
   ]
  },
  {
   "cell_type": "code",
   "execution_count": 62,
   "id": "369f7ea9",
   "metadata": {
    "execution": {
     "iopub.execute_input": "2022-03-15T16:06:23.236434Z",
     "iopub.status.busy": "2022-03-15T16:06:23.235767Z",
     "iopub.status.idle": "2022-03-15T16:06:23.240640Z",
     "shell.execute_reply": "2022-03-15T16:06:23.241144Z",
     "shell.execute_reply.started": "2022-03-14T17:48:10.534735Z"
    },
    "papermill": {
     "duration": 0.059838,
     "end_time": "2022-03-15T16:06:23.241329",
     "exception": false,
     "start_time": "2022-03-15T16:06:23.181491",
     "status": "completed"
    },
    "tags": []
   },
   "outputs": [
    {
     "data": {
      "text/plain": [
       "724"
      ]
     },
     "execution_count": 62,
     "metadata": {},
     "output_type": "execute_result"
    }
   ],
   "source": [
    "len(MBTI_EDA)"
   ]
  },
  {
   "cell_type": "code",
   "execution_count": 29,
   "id": "47cec82b",
   "metadata": {
    "execution": {
     "iopub.execute_input": "2022-03-15T16:06:23.358733Z",
     "iopub.status.busy": "2022-03-15T16:06:23.357426Z",
     "iopub.status.idle": "2022-03-15T16:06:23.802572Z",
     "shell.execute_reply": "2022-03-15T16:06:23.801890Z",
     "shell.execute_reply.started": "2022-03-14T17:48:10.543220Z"
    },
    "papermill": {
     "duration": 0.508816,
     "end_time": "2022-03-15T16:06:23.802719",
     "exception": false,
     "start_time": "2022-03-15T16:06:23.293903",
     "status": "completed"
    },
    "tags": []
   },
   "outputs": [
    {
     "data": {
      "image/png": "[encoded data removed]",
      "text/plain": [
       "<Figure size 1080x360 with 1 Axes>"
      ]
     },
     "metadata": {
      "needs_background": "light"
     },
     "output_type": "display_data"
    }
   ],
   "source": [
    "MBTI_EDA_ENFJ = MBTI_EDA[['ENFJ']]\n",
    "MBTI_EDA_ENFJ.sort_values('ENFJ',ascending=False,inplace=True)\n",
    "MBTI_EDA_ENFJ = MBTI_EDA_ENFJ.head(20)\n",
    "plt.figure(figsize=(15,5))\n",
    "sns.barplot(x=MBTI_EDA_ENFJ.ENFJ,y=MBTI_EDA_ENFJ.index)\n",
    "plt.title('ENFJ vs Words')\n",
    "plt.show()"
   ]
  },
  {
   "cell_type": "code",
   "execution_count": 30,
   "id": "7cae0c45",
   "metadata": {
    "execution": {
     "iopub.execute_input": "2022-03-15T16:06:23.940073Z",
     "iopub.status.busy": "2022-03-15T16:06:23.917311Z",
     "iopub.status.idle": "2022-03-15T16:06:24.236199Z",
     "shell.execute_reply": "2022-03-15T16:06:24.235633Z",
     "shell.execute_reply.started": "2022-03-14T17:48:10.954473Z"
    },
    "papermill": {
     "duration": 0.380121,
     "end_time": "2022-03-15T16:06:24.236358",
     "exception": false,
     "start_time": "2022-03-15T16:06:23.856237",
     "status": "completed"
    },
    "tags": []
   },
   "outputs": [
    {
     "data": {
      "image/png": "[encoded data removed]",
      "text/plain": [
       "<Figure size 1080x360 with 1 Axes>"
      ]
     },
     "metadata": {
      "needs_background": "light"
     },
     "output_type": "display_data"
    }
   ],
   "source": [
    "MBTI_EDA_ENFP = MBTI_EDA[['ENFP']]\n",
    "MBTI_EDA_ENFP.sort_values('ENFP',ascending=False,inplace=True)\n",
    "MBTI_EDA_ENFP = MBTI_EDA_ENFP.head(20)\n",
    "plt.figure(figsize=(15,5))\n",
    "sns.barplot(x=MBTI_EDA_ENFP.ENFP,y=MBTI_EDA_ENFP.index)\n",
    "plt.title('ENFP vs Words')\n",
    "plt.show()"
   ]
  },
  {
   "cell_type": "code",
   "execution_count": 31,
   "id": "2148bde5",
   "metadata": {
    "execution": {
     "iopub.execute_input": "2022-03-15T16:06:24.354949Z",
     "iopub.status.busy": "2022-03-15T16:06:24.354254Z",
     "iopub.status.idle": "2022-03-15T16:06:24.664170Z",
     "shell.execute_reply": "2022-03-15T16:06:24.663564Z",
     "shell.execute_reply.started": "2022-03-14T17:48:11.275975Z"
    },
    "papermill": {
     "duration": 0.372108,
     "end_time": "2022-03-15T16:06:24.664334",
     "exception": false,
     "start_time": "2022-03-15T16:06:24.292226",
     "status": "completed"
    },
    "tags": []
   },
   "outputs": [
    {
     "data": {
      "image/png": "[encoded data removed]",
      "text/plain": [
       "<Figure size 1080x360 with 1 Axes>"
      ]
     },
     "metadata": {
      "needs_background": "light"
     },
     "output_type": "display_data"
    }
   ],
   "source": [
    "MBTI_EDA_ESTP = MBTI_EDA[['ESTP']]\n",
    "MBTI_EDA_ESTP.sort_values('ESTP',ascending=False,inplace=True)\n",
    "MBTI_EDA_ESTP = MBTI_EDA_ESTP.head(20)\n",
    "plt.figure(figsize=(15,5))\n",
    "sns.barplot(x=MBTI_EDA_ESTP.ESTP,y=MBTI_EDA_ESTP.index)\n",
    "plt.title('ESTP vs Words')\n",
    "plt.show()"
   ]
  },
  {
   "cell_type": "code",
   "execution_count": 32,
   "id": "af70b001",
   "metadata": {
    "execution": {
     "iopub.execute_input": "2022-03-15T16:06:24.778645Z",
     "iopub.status.busy": "2022-03-15T16:06:24.777891Z",
     "iopub.status.idle": "2022-03-15T16:06:25.094612Z",
     "shell.execute_reply": "2022-03-15T16:06:25.095297Z",
     "shell.execute_reply.started": "2022-03-14T17:48:11.598377Z"
    },
    "papermill": {
     "duration": 0.375974,
     "end_time": "2022-03-15T16:06:25.095489",
     "exception": false,
     "start_time": "2022-03-15T16:06:24.719515",
     "status": "completed"
    },
    "tags": []
   },
   "outputs": [
    {
     "data": {
      "image/png": "[encoded data removed]",
      "text/plain": [
       "<Figure size 1080x360 with 1 Axes>"
      ]
     },
     "metadata": {
      "needs_background": "light"
     },
     "output_type": "display_data"
    }
   ],
   "source": [
    "MBTI_EDA_INTP = MBTI_EDA[['INTP']]\n",
    "MBTI_EDA_INTP.sort_values('INTP',ascending=False,inplace=True)\n",
    "MBTI_EDA_INTP = MBTI_EDA_INTP.head(20)\n",
    "plt.figure(figsize=(15,5))\n",
    "sns.barplot(x=MBTI_EDA_INTP.INTP,y=MBTI_EDA_INTP.index)\n",
    "plt.title('INTP vs Words')\n",
    "plt.show()"
   ]
  },
  {
   "cell_type": "code",
   "execution_count": 33,
   "id": "7744b059",
   "metadata": {
    "execution": {
     "iopub.execute_input": "2022-03-15T16:06:25.216611Z",
     "iopub.status.busy": "2022-03-15T16:06:25.215773Z",
     "iopub.status.idle": "2022-03-15T16:06:25.529113Z",
     "shell.execute_reply": "2022-03-15T16:06:25.529587Z",
     "shell.execute_reply.started": "2022-03-14T17:48:11.926773Z"
    },
    "papermill": {
     "duration": 0.375236,
     "end_time": "2022-03-15T16:06:25.529776",
     "exception": false,
     "start_time": "2022-03-15T16:06:25.154540",
     "status": "completed"
    },
    "tags": []
   },
   "outputs": [
    {
     "data": {
      "image/png": "[encoded data removed]",
      "text/plain": [
       "<Figure size 1080x360 with 1 Axes>"
      ]
     },
     "metadata": {
      "needs_background": "light"
     },
     "output_type": "display_data"
    }
   ],
   "source": [
    "MBTI_EDA_ISTJ = MBTI_EDA[['ISTJ']]\n",
    "MBTI_EDA_ISTJ.sort_values('ISTJ',ascending=False,inplace=True)\n",
    "MBTI_EDA_ISTJ = MBTI_EDA_ISTJ.head(20)\n",
    "plt.figure(figsize=(15,5))\n",
    "sns.barplot(x=MBTI_EDA_ISTJ.ISTJ,y=MBTI_EDA_ISTJ.index)\n",
    "plt.title('ISTJ vs Words')\n",
    "plt.show()"
   ]
  },
  {
   "cell_type": "code",
   "execution_count": 34,
   "id": "eb367a49",
   "metadata": {
    "execution": {
     "iopub.execute_input": "2022-03-15T16:06:25.649518Z",
     "iopub.status.busy": "2022-03-15T16:06:25.648734Z",
     "iopub.status.idle": "2022-03-15T16:06:25.651884Z",
     "shell.execute_reply": "2022-03-15T16:06:25.652480Z",
     "shell.execute_reply.started": "2022-03-14T17:48:12.451127Z"
    },
    "papermill": {
     "duration": 0.06487,
     "end_time": "2022-03-15T16:06:25.652661",
     "exception": false,
     "start_time": "2022-03-15T16:06:25.587791",
     "status": "completed"
    },
    "tags": []
   },
   "outputs": [],
   "source": [
    "#We get a chart of the most probable words being used in the posts of some of the personality types. "
   ]
  },
  {
   "cell_type": "code",
   "execution_count": 35,
   "id": "57611508",
   "metadata": {
    "execution": {
     "iopub.execute_input": "2022-03-15T16:06:25.770028Z",
     "iopub.status.busy": "2022-03-15T16:06:25.769400Z",
     "iopub.status.idle": "2022-03-15T16:06:25.772436Z",
     "shell.execute_reply": "2022-03-15T16:06:25.772966Z",
     "shell.execute_reply.started": "2022-03-14T17:48:12.457101Z"
    },
    "papermill": {
     "duration": 0.062997,
     "end_time": "2022-03-15T16:06:25.773132",
     "exception": false,
     "start_time": "2022-03-15T16:06:25.710135",
     "status": "completed"
    },
    "tags": []
   },
   "outputs": [],
   "source": [
    "#Model building "
   ]
  },
  {
   "cell_type": "code",
   "execution_count": 36,
   "id": "8dae068c",
   "metadata": {
    "execution": {
     "iopub.execute_input": "2022-03-15T16:06:25.893080Z",
     "iopub.status.busy": "2022-03-15T16:06:25.892263Z",
     "iopub.status.idle": "2022-03-15T16:06:25.895171Z",
     "shell.execute_reply": "2022-03-15T16:06:25.895768Z",
     "shell.execute_reply.started": "2022-03-14T17:48:12.475555Z"
    },
    "papermill": {
     "duration": 0.064888,
     "end_time": "2022-03-15T16:06:25.895953",
     "exception": false,
     "start_time": "2022-03-15T16:06:25.831065",
     "status": "completed"
    },
    "tags": []
   },
   "outputs": [],
   "source": [
    "#Now we will build a model to predict each personality type from the words used. "
   ]
  },
  {
   "cell_type": "code",
   "execution_count": 37,
   "id": "84b1505e",
   "metadata": {
    "execution": {
     "iopub.execute_input": "2022-03-15T16:06:26.022091Z",
     "iopub.status.busy": "2022-03-15T16:06:26.021351Z",
     "iopub.status.idle": "2022-03-15T16:06:26.916780Z",
     "shell.execute_reply": "2022-03-15T16:06:26.916016Z",
     "shell.execute_reply.started": "2022-03-14T17:48:12.487152Z"
    },
    "papermill": {
     "duration": 0.96263,
     "end_time": "2022-03-15T16:06:26.916967",
     "exception": false,
     "start_time": "2022-03-15T16:06:25.954337",
     "status": "completed"
    },
    "tags": []
   },
   "outputs": [],
   "source": [
    "from sklearn.ensemble import RandomForestClassifier\n",
    "from sklearn.model_selection import train_test_split, GridSearchCV\n",
    "from sklearn.metrics import accuracy_score, recall_score"
   ]
  },
  {
   "cell_type": "code",
   "execution_count": 38,
   "id": "f1766214",
   "metadata": {
    "execution": {
     "iopub.execute_input": "2022-03-15T16:06:27.062327Z",
     "iopub.status.busy": "2022-03-15T16:06:27.061424Z",
     "iopub.status.idle": "2022-03-15T16:06:27.066701Z",
     "shell.execute_reply": "2022-03-15T16:06:27.067359Z",
     "shell.execute_reply.started": "2022-03-14T17:48:12.883434Z"
    },
    "papermill": {
     "duration": 0.073132,
     "end_time": "2022-03-15T16:06:27.067547",
     "exception": false,
     "start_time": "2022-03-15T16:06:26.994415",
     "status": "completed"
    },
    "tags": []
   },
   "outputs": [],
   "source": [
    "Personalities = ['INFP','INFJ','INTP','INTJ','ENTP','ENFP','ISTP','ISFP','ENTJ','ISTJ','ENFJ','ISFJ','ESTP','ESFP','ESFJ','ESTJ']\n",
    "Feature_Importance = pd.DataFrame()"
   ]
  },
  {
   "cell_type": "code",
   "execution_count": 39,
   "id": "34faee67",
   "metadata": {
    "execution": {
     "iopub.execute_input": "2022-03-15T16:06:27.200892Z",
     "iopub.status.busy": "2022-03-15T16:06:27.200094Z",
     "iopub.status.idle": "2022-03-15T16:06:27.202898Z",
     "shell.execute_reply": "2022-03-15T16:06:27.203519Z",
     "shell.execute_reply.started": "2022-03-14T17:48:12.889541Z"
    },
    "papermill": {
     "duration": 0.072203,
     "end_time": "2022-03-15T16:06:27.203754",
     "exception": false,
     "start_time": "2022-03-15T16:06:27.131551",
     "status": "completed"
    },
    "tags": []
   },
   "outputs": [],
   "source": [
    "#Taking only a small sample of the data for training since we have a lot of data. "
   ]
  },
  {
   "cell_type": "code",
   "execution_count": 40,
   "id": "337ba2ed",
   "metadata": {
    "execution": {
     "iopub.execute_input": "2022-03-15T16:06:27.337737Z",
     "iopub.status.busy": "2022-03-15T16:06:27.336849Z",
     "iopub.status.idle": "2022-03-15T16:06:27.405673Z",
     "shell.execute_reply": "2022-03-15T16:06:27.404973Z",
     "shell.execute_reply.started": "2022-03-14T17:48:12.903389Z"
    },
    "papermill": {
     "duration": 0.136992,
     "end_time": "2022-03-15T16:06:27.405840",
     "exception": false,
     "start_time": "2022-03-15T16:06:27.268848",
     "status": "completed"
    },
    "tags": []
   },
   "outputs": [],
   "source": [
    "MBTI =  MBTI.sample(frac=0.05)"
   ]
  },
  {
   "cell_type": "code",
   "execution_count": 41,
   "id": "ec0979ae",
   "metadata": {
    "execution": {
     "iopub.execute_input": "2022-03-15T16:06:27.545584Z",
     "iopub.status.busy": "2022-03-15T16:06:27.544276Z",
     "iopub.status.idle": "2022-03-15T16:33:11.745369Z",
     "shell.execute_reply": "2022-03-15T16:33:11.746287Z",
     "shell.execute_reply.started": "2022-03-14T17:48:12.977449Z"
    },
    "papermill": {
     "duration": 1604.275367,
     "end_time": "2022-03-15T16:33:11.746706",
     "exception": false,
     "start_time": "2022-03-15T16:06:27.471339",
     "status": "completed"
    },
    "scrolled": true,
    "tags": []
   },
   "outputs": [
    {
     "name": "stdout",
     "output_type": "stream",
     "text": [
      "Fitting 5 folds for each of 48 candidates, totalling 240 fits\n",
      "INFP\n",
      "Train Accuracy : 0.978448275862069\n",
      "Test Accuracy : 0.9277184160905091\n",
      "Fitting 5 folds for each of 48 candidates, totalling 240 fits\n",
      "INFJ\n",
      "Train Accuracy : 0.9954202586206896\n",
      "Test Accuracy : 0.9044626021370208\n",
      "Fitting 5 folds for each of 48 candidates, totalling 240 fits\n",
      "INTP\n",
      "Train Accuracy : 0.9480064655172413\n",
      "Test Accuracy : 0.8724072910119421\n",
      "Fitting 5 folds for each of 48 candidates, totalling 240 fits\n",
      "INTJ\n",
      "Train Accuracy : 0.9520474137931034\n",
      "Test Accuracy : 0.8642363293526084\n",
      "Fitting 5 folds for each of 48 candidates, totalling 240 fits\n",
      "ENTP\n",
      "Train Accuracy : 0.9876077586206896\n",
      "Test Accuracy : 0.8988057825267127\n",
      "Fitting 5 folds for each of 48 candidates, totalling 240 fits\n",
      "ENFP\n",
      "Train Accuracy : 0.9881465517241379\n",
      "Test Accuracy : 0.9421747328724073\n",
      "Fitting 5 folds for each of 48 candidates, totalling 240 fits\n",
      "ISTP\n",
      "Train Accuracy : 0.9924568965517241\n",
      "Test Accuracy : 0.9666876178504086\n",
      "Fitting 5 folds for each of 48 candidates, totalling 240 fits\n",
      "ISFP\n",
      "Train Accuracy : 1.0\n",
      "Test Accuracy : 0.9905719673161534\n",
      "Fitting 5 folds for each of 48 candidates, totalling 240 fits\n",
      "ENTJ\n",
      "Train Accuracy : 0.9997306034482759\n",
      "Test Accuracy : 0.9742300439974858\n",
      "Fitting 5 folds for each of 48 candidates, totalling 240 fits\n",
      "ISTJ\n",
      "Train Accuracy : 0.9964978448275862\n",
      "Test Accuracy : 0.9824010056568196\n",
      "Fitting 5 folds for each of 48 candidates, totalling 240 fits\n",
      "ENFJ\n",
      "Train Accuracy : 0.9989224137931034\n",
      "Test Accuracy : 0.9849151477058454\n",
      "Fitting 5 folds for each of 48 candidates, totalling 240 fits\n",
      "ISFJ\n",
      "Train Accuracy : 1.0\n",
      "Test Accuracy : 0.9949717159019484\n",
      "Fitting 5 folds for each of 48 candidates, totalling 240 fits\n",
      "ESTP\n",
      "Train Accuracy : 0.9989224137931034\n",
      "Test Accuracy : 0.9855436832181018\n",
      "Fitting 5 folds for each of 48 candidates, totalling 240 fits\n",
      "ESFP\n",
      "Train Accuracy : 1.0\n",
      "Test Accuracy : 0.994343180389692\n",
      "Fitting 5 folds for each of 48 candidates, totalling 240 fits\n",
      "ESFJ\n",
      "Train Accuracy : 1.0\n",
      "Test Accuracy : 0.9981143934632307\n",
      "Fitting 5 folds for each of 48 candidates, totalling 240 fits\n",
      "ESTJ\n",
      "Train Accuracy : 0.9994612068965517\n",
      "Test Accuracy : 0.9918290383406663\n"
     ]
    }
   ],
   "source": [
    "for i in Personalities:\n",
    "    Temp = MBTI.copy()\n",
    "    Temp['Personality Type'] = Temp['Personality Type'].apply(lambda x: 1 if x==i else 0)\n",
    "    X = Temp.drop('Personality Type',axis=1)\n",
    "    y = Temp['Personality Type']\n",
    "    X_train, X_test, y_train, y_test = train_test_split(X,y,train_size=0.7,random_state=100)\n",
    "    \n",
    "    Model = RandomForestClassifier(n_jobs=-1,random_state=100,class_weight='balanced')\n",
    "    \n",
    "    params = {'n_estimators':[100],\n",
    "              'max_depth':[3,5,7,10,12,15],\n",
    "              'max_features':[0.05,0.1,0.15,0.2],\n",
    "              'criterion':[\"gini\",\"entropy\"]}\n",
    "    \n",
    "    grid_search = GridSearchCV(estimator=Model,param_grid=params,verbose=1,n_jobs=-1,scoring='accuracy')\n",
    "    grid_search.fit(X_train,y_train)\n",
    "    \n",
    "    Model_best = grid_search.best_estimator_\n",
    "    \n",
    "    y_train_pred = Model_best.predict(X_train)\n",
    "    y_test_pred = Model_best.predict(X_test)\n",
    "    \n",
    "    print(i)\n",
    "    print('Train Accuracy :',accuracy_score(y_train,y_train_pred))\n",
    "    print('Test Accuracy :',accuracy_score(y_test,y_test_pred))\n",
    "\n",
    "    \n",
    "    Feature_Importance['Feature'] = X_train.columns\n",
    "    Feature_Importance[i] = Model_best.feature_importances_"
   ]
  },
  {
   "cell_type": "code",
   "execution_count": 42,
   "id": "cdd42168",
   "metadata": {
    "execution": {
     "iopub.execute_input": "2022-03-15T16:33:11.889653Z",
     "iopub.status.busy": "2022-03-15T16:33:11.888966Z",
     "iopub.status.idle": "2022-03-15T16:33:11.906276Z",
     "shell.execute_reply": "2022-03-15T16:33:11.905549Z",
     "shell.execute_reply.started": "2022-03-14T18:14:51.729826Z"
    },
    "papermill": {
     "duration": 0.094718,
     "end_time": "2022-03-15T16:33:11.906492",
     "exception": false,
     "start_time": "2022-03-15T16:33:11.811774",
     "status": "completed"
    },
    "tags": []
   },
   "outputs": [
    {
     "data": {
      "text/html": [
       "<div>\n",
       "<style scoped>\n",
       "    .dataframe tbody tr th:only-of-type {\n",
       "        vertical-align: middle;\n",
       "    }\n",
       "\n",
       "    .dataframe tbody tr th {\n",
       "        vertical-align: top;\n",
       "    }\n",
       "\n",
       "    .dataframe thead th {\n",
       "        text-align: right;\n",
       "    }\n",
       "</style>\n",
       "<table border=\"1\" class=\"dataframe\">\n",
       "  <thead>\n",
       "    <tr style=\"text-align: right;\">\n",
       "      <th></th>\n",
       "      <th>Feature</th>\n",
       "      <th>INFP</th>\n",
       "      <th>INFJ</th>\n",
       "      <th>INTP</th>\n",
       "      <th>INTJ</th>\n",
       "      <th>ENTP</th>\n",
       "      <th>ENFP</th>\n",
       "      <th>ISTP</th>\n",
       "      <th>ISFP</th>\n",
       "      <th>ENTJ</th>\n",
       "      <th>ISTJ</th>\n",
       "      <th>ENFJ</th>\n",
       "      <th>ISFJ</th>\n",
       "      <th>ESTP</th>\n",
       "      <th>ESFP</th>\n",
       "      <th>ESFJ</th>\n",
       "      <th>ESTJ</th>\n",
       "    </tr>\n",
       "  </thead>\n",
       "  <tbody>\n",
       "    <tr>\n",
       "      <th>0</th>\n",
       "      <td>like</td>\n",
       "      <td>0.000000</td>\n",
       "      <td>0.000467</td>\n",
       "      <td>0.000147</td>\n",
       "      <td>0.000070</td>\n",
       "      <td>0.000000</td>\n",
       "      <td>0.000000</td>\n",
       "      <td>0.000000e+00</td>\n",
       "      <td>0.0</td>\n",
       "      <td>0.000000</td>\n",
       "      <td>0.000000e+00</td>\n",
       "      <td>0.000000e+00</td>\n",
       "      <td>0.0</td>\n",
       "      <td>0.000000e+00</td>\n",
       "      <td>0.000000e+00</td>\n",
       "      <td>0.0</td>\n",
       "      <td>0.000000</td>\n",
       "    </tr>\n",
       "    <tr>\n",
       "      <th>1</th>\n",
       "      <td>think</td>\n",
       "      <td>0.000442</td>\n",
       "      <td>0.000242</td>\n",
       "      <td>0.000188</td>\n",
       "      <td>0.000506</td>\n",
       "      <td>0.000100</td>\n",
       "      <td>0.000000</td>\n",
       "      <td>2.196447e-04</td>\n",
       "      <td>0.0</td>\n",
       "      <td>0.000000</td>\n",
       "      <td>0.000000e+00</td>\n",
       "      <td>1.322267e-03</td>\n",
       "      <td>0.0</td>\n",
       "      <td>0.000000e+00</td>\n",
       "      <td>5.856076e-16</td>\n",
       "      <td>0.0</td>\n",
       "      <td>0.000000</td>\n",
       "    </tr>\n",
       "    <tr>\n",
       "      <th>2</th>\n",
       "      <td>people</td>\n",
       "      <td>0.000185</td>\n",
       "      <td>0.000278</td>\n",
       "      <td>0.000367</td>\n",
       "      <td>0.000070</td>\n",
       "      <td>0.000181</td>\n",
       "      <td>0.000388</td>\n",
       "      <td>2.150929e-04</td>\n",
       "      <td>0.0</td>\n",
       "      <td>0.000183</td>\n",
       "      <td>0.000000e+00</td>\n",
       "      <td>1.183870e-17</td>\n",
       "      <td>0.0</td>\n",
       "      <td>1.407902e-19</td>\n",
       "      <td>0.000000e+00</td>\n",
       "      <td>0.0</td>\n",
       "      <td>0.000000</td>\n",
       "    </tr>\n",
       "    <tr>\n",
       "      <th>3</th>\n",
       "      <td>get</td>\n",
       "      <td>0.001010</td>\n",
       "      <td>0.000596</td>\n",
       "      <td>0.000143</td>\n",
       "      <td>0.000288</td>\n",
       "      <td>0.000100</td>\n",
       "      <td>0.001177</td>\n",
       "      <td>4.481223e-05</td>\n",
       "      <td>0.0</td>\n",
       "      <td>0.000916</td>\n",
       "      <td>0.000000e+00</td>\n",
       "      <td>5.861194e-18</td>\n",
       "      <td>0.0</td>\n",
       "      <td>5.791515e-04</td>\n",
       "      <td>0.000000e+00</td>\n",
       "      <td>0.0</td>\n",
       "      <td>0.000000</td>\n",
       "    </tr>\n",
       "    <tr>\n",
       "      <th>4</th>\n",
       "      <td>thing</td>\n",
       "      <td>0.000340</td>\n",
       "      <td>0.000472</td>\n",
       "      <td>0.000629</td>\n",
       "      <td>0.000388</td>\n",
       "      <td>0.000606</td>\n",
       "      <td>0.000510</td>\n",
       "      <td>1.312202e-17</td>\n",
       "      <td>0.0</td>\n",
       "      <td>0.001303</td>\n",
       "      <td>4.602413e-17</td>\n",
       "      <td>9.906348e-04</td>\n",
       "      <td>0.0</td>\n",
       "      <td>8.339608e-04</td>\n",
       "      <td>0.000000e+00</td>\n",
       "      <td>0.0</td>\n",
       "      <td>0.001322</td>\n",
       "    </tr>\n",
       "  </tbody>\n",
       "</table>\n",
       "</div>"
      ],
      "text/plain": [
       "  Feature      INFP      INFJ      INTP      INTJ      ENTP      ENFP  \\\n",
       "0    like  0.000000  0.000467  0.000147  0.000070  0.000000  0.000000   \n",
       "1   think  0.000442  0.000242  0.000188  0.000506  0.000100  0.000000   \n",
       "2  people  0.000185  0.000278  0.000367  0.000070  0.000181  0.000388   \n",
       "3     get  0.001010  0.000596  0.000143  0.000288  0.000100  0.001177   \n",
       "4   thing  0.000340  0.000472  0.000629  0.000388  0.000606  0.000510   \n",
       "\n",
       "           ISTP  ISFP      ENTJ          ISTJ          ENFJ  ISFJ  \\\n",
       "0  0.000000e+00   0.0  0.000000  0.000000e+00  0.000000e+00   0.0   \n",
       "1  2.196447e-04   0.0  0.000000  0.000000e+00  1.322267e-03   0.0   \n",
       "2  2.150929e-04   0.0  0.000183  0.000000e+00  1.183870e-17   0.0   \n",
       "3  4.481223e-05   0.0  0.000916  0.000000e+00  5.861194e-18   0.0   \n",
       "4  1.312202e-17   0.0  0.001303  4.602413e-17  9.906348e-04   0.0   \n",
       "\n",
       "           ESTP          ESFP  ESFJ      ESTJ  \n",
       "0  0.000000e+00  0.000000e+00   0.0  0.000000  \n",
       "1  0.000000e+00  5.856076e-16   0.0  0.000000  \n",
       "2  1.407902e-19  0.000000e+00   0.0  0.000000  \n",
       "3  5.791515e-04  0.000000e+00   0.0  0.000000  \n",
       "4  8.339608e-04  0.000000e+00   0.0  0.001322  "
      ]
     },
     "execution_count": 42,
     "metadata": {},
     "output_type": "execute_result"
    }
   ],
   "source": [
    "Feature_Importance.head()"
   ]
  },
  {
   "cell_type": "code",
   "execution_count": 43,
   "id": "773fb171",
   "metadata": {
    "execution": {
     "iopub.execute_input": "2022-03-15T16:33:12.040871Z",
     "iopub.status.busy": "2022-03-15T16:33:12.040131Z",
     "iopub.status.idle": "2022-03-15T16:33:12.041910Z",
     "shell.execute_reply": "2022-03-15T16:33:12.042423Z",
     "shell.execute_reply.started": "2022-03-14T18:14:51.761621Z"
    },
    "papermill": {
     "duration": 0.071158,
     "end_time": "2022-03-15T16:33:12.042594",
     "exception": false,
     "start_time": "2022-03-15T16:33:11.971436",
     "status": "completed"
    },
    "tags": []
   },
   "outputs": [],
   "source": [
    "#As we can see most of the models have pretty good accuracy scores on both the test and train sets. "
   ]
  },
  {
   "cell_type": "code",
   "execution_count": 44,
   "id": "d22ace29",
   "metadata": {
    "execution": {
     "iopub.execute_input": "2022-03-15T16:33:12.177143Z",
     "iopub.status.busy": "2022-03-15T16:33:12.176082Z",
     "iopub.status.idle": "2022-03-15T16:33:12.179259Z",
     "shell.execute_reply": "2022-03-15T16:33:12.178587Z"
    },
    "papermill": {
     "duration": 0.07154,
     "end_time": "2022-03-15T16:33:12.179413",
     "exception": false,
     "start_time": "2022-03-15T16:33:12.107873",
     "status": "completed"
    },
    "tags": []
   },
   "outputs": [],
   "source": [
    "# END FOR NOW #"
   ]
  }
 ],
 "metadata": {
  "kernelspec": {
   "display_name": "Python 3.9.12 ('base')",
   "language": "python",
   "name": "python3"
  },
  "language_info": {
   "codemirror_mode": {
    "name": "ipython",
    "version": 3
   },
   "file_extension": ".py",
   "mimetype": "text/x-python",
   "name": "python",
   "nbconvert_exporter": "python",
   "pygments_lexer": "ipython3",
   "version": "3.9.12"
  },
  "papermill": {
   "default_parameters": {},
   "duration": 4398.908188,
   "end_time": "2022-03-15T16:33:13.771978",
   "environment_variables": {},
   "exception": null,
   "input_path": "__notebook__.ipynb",
   "output_path": "__notebook__.ipynb",
   "parameters": {},
   "start_time": "2022-03-15T15:19:54.863790",
   "version": "2.3.3"
  },
  "vscode": {
   "interpreter": {
    "hash": "6a849937bff85c687af3e5ab4d45e7ab9a8d83e4204871d9aa1eccb20121e191"
   }
  }
 },
 "nbformat": 4,
 "nbformat_minor": 5
}
